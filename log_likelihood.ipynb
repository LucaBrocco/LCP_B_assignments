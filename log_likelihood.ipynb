{
 "cells": [
  {
   "cell_type": "code",
   "execution_count": 1,
   "id": "fc0aa9d7",
   "metadata": {},
   "outputs": [],
   "source": [
    "import itertools as it\n",
    "\n",
    "\n",
    "def log_like(x,a,b,w,Q): ##Q=L\n",
    "    \n",
    "    def hidden_states(Q):  ###this is the function to generate z (?) Q here is the number of hidden units L=3\n",
    "        conf = it.product((0,1), repeat=Q)\n",
    "        all_conf=list(conf)\n",
    "        return all_conf\n",
    "    \n",
    "    \n",
    "    all_conf=hidden_states(Q)\n",
    "    q_values=[]\n",
    "    Z_xz=[]\n",
    "    E=[]\n",
    "    for z in all_conf:\n",
    "        z = np.array(z)  \n",
    "        G = np.prod(np.exp(b * z)) ###sum and product over mu, basically each component\n",
    "        H = a+ np.dot(w, z)  \n",
    "        E.append(np.exp(-np.dot(H_z,x)-np.dot(b,z)))\n",
    "        q_values.append(np.mean(1 + np.exp(H)))\n",
    "        Z.append(G * np.prod(1 + np.exp(H)))\n",
    "    q=np.mean(q_value)\n",
    "    term1=np.log(np.sum(E))\n",
    "    term2 =D*np.log(q)+np.log(np.sum(Z/q))\n",
    "    \n",
    "    return (tern1-term2)\n",
    "\n",
    "\n",
    "\n"
   ]
  }
 ],
 "metadata": {
  "kernelspec": {
   "display_name": "Python (myenv)",
   "language": "python",
   "name": "myenv"
  },
  "language_info": {
   "codemirror_mode": {
    "name": "ipython",
    "version": 3
   },
   "file_extension": ".py",
   "mimetype": "text/x-python",
   "name": "python",
   "nbconvert_exporter": "python",
   "pygments_lexer": "ipython3",
   "version": "3.9.20"
  }
 },
 "nbformat": 4,
 "nbformat_minor": 5
}

